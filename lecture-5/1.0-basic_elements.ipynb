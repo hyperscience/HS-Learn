{
 "cells": [
  {
   "cell_type": "code",
   "execution_count": null,
   "metadata": {},
   "outputs": [],
   "source": [
    "import tensorflow as tf"
   ]
  },
  {
   "cell_type": "markdown",
   "metadata": {},
   "source": [
    "We create a graph. A graph contains the operations that will be executed in TF."
   ]
  },
  {
   "cell_type": "code",
   "execution_count": null,
   "metadata": {},
   "outputs": [],
   "source": [
    "graph = tf.Graph()"
   ]
  },
  {
   "cell_type": "markdown",
   "metadata": {},
   "source": [
    "We set the graph as the default one in the `with` scope. Each tensor (operation, placeholder, etc.) becomes part of our graph if executed within that scope."
   ]
  },
  {
   "cell_type": "code",
   "execution_count": null,
   "metadata": {},
   "outputs": [],
   "source": [
    "with graph.as_default():\n",
    "    a = tf.placeholder(tf.int32, [], name='ph_for_a')\n",
    "    b = tf.placeholder(tf.int32, [], name='just_b')\n",
    "    c = a + b\n",
    "    d = 2 * a\n",
    "    const = tf.constant(6)"
   ]
  },
  {
   "cell_type": "markdown",
   "metadata": {},
   "source": [
    "`a` and `b` are value placeholders. During evaluation we'll pass them their values. `c` and `d` are operations (`tf.Operation`). They have values dependent on other tensors and can be arbitrary complex.\n",
    "\n",
    "Each tensor (including placeholders) has a type (tf.int32) and shape ([]). When passing values for placeholders we MUST pass values with that type and compatible shape. Usually we use `tf.int32` for integer  tensors (e.g. counts, tensor shape components and discreete values) and `tf.float32` for real numbers (computations are faster (espetially on GPU and vectorized compilations) and we don't need the extra precission in `tf.float64` (double)).   "
   ]
  },
  {
   "cell_type": "markdown",
   "metadata": {},
   "source": [
    "We create a session. Every operation ins executed within a session and each session has a graph defining the operations that will be executed."
   ]
  },
  {
   "cell_type": "code",
   "execution_count": null,
   "metadata": {},
   "outputs": [],
   "source": [
    "session = tf.Session(graph=graph)"
   ]
  },
  {
   "cell_type": "markdown",
   "metadata": {},
   "source": [
    "We can use the `run` method to compute the values of tensors within the graph."
   ]
  },
  {
   "cell_type": "code",
   "execution_count": null,
   "metadata": {},
   "outputs": [],
   "source": [
    "session.run(const)"
   ]
  },
  {
   "cell_type": "code",
   "execution_count": null,
   "metadata": {},
   "outputs": [],
   "source": [
    "session.run(c)"
   ]
  },
  {
   "cell_type": "markdown",
   "metadata": {},
   "source": [
    "Obviously we cant compute `c` without passing values for `a` and `b`. To do this we have to pass the second parameter of `run` - `feed_dict`. It can be a `dict` with keys `placeholder`s and values - the value the we want to pass into the coresponding `placeholder`.\n",
    "\n",
    "By the way every tensor has a name and it's a good idea to pass a meaningful one when debugging. This way we can figure out which `placeholder` doesn't have a value."
   ]
  },
  {
   "cell_type": "code",
   "execution_count": null,
   "metadata": {},
   "outputs": [],
   "source": [
    "session.run(c, {a:1, b:2})"
   ]
  },
  {
   "cell_type": "markdown",
   "metadata": {},
   "source": [
    "We can pass values only for the `placeholder`s we use in our computation."
   ]
  },
  {
   "cell_type": "code",
   "execution_count": null,
   "metadata": {},
   "outputs": [],
   "source": [
    "session.run(d, {a:5})"
   ]
  },
  {
   "cell_type": "markdown",
   "metadata": {},
   "source": [
    "![Dependency Graph](images/1.0-dependency_graph.svg)"
   ]
  },
  {
   "cell_type": "markdown",
   "metadata": {},
   "source": [
    "The thing we evaluate doesn't have to be a single tensor. It can be a nested structur of `list`s and `dict`s."
   ]
  },
  {
   "cell_type": "code",
   "execution_count": null,
   "metadata": {},
   "outputs": [],
   "source": [
    "session.run({'a_and_b': [a, b], 'a+b':c, 'double_a':d}, {a:45, b:-3})"
   ]
  },
  {
   "cell_type": "code",
   "execution_count": null,
   "metadata": {},
   "outputs": [],
   "source": []
  }
 ],
 "metadata": {
  "kernelspec": {
   "display_name": "Python 3",
   "language": "python",
   "name": "python3"
  },
  "language_info": {
   "codemirror_mode": {
    "name": "ipython",
    "version": 3
   },
   "file_extension": ".py",
   "mimetype": "text/x-python",
   "name": "python",
   "nbconvert_exporter": "python",
   "pygments_lexer": "ipython3",
   "version": "3.5.2"
  }
 },
 "nbformat": 4,
 "nbformat_minor": 2
}
