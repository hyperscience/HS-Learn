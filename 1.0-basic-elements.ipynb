{
 "cells": [
  {
   "cell_type": "code",
   "execution_count": null,
   "metadata": {},
   "outputs": [],
   "source": [
    "import tensorflow as tf"
   ]
  },
  {
   "cell_type": "markdown",
   "metadata": {},
   "source": [
    "Създаваме граф. В графът се описват операциите, които ще се изпълняват от TF."
   ]
  },
  {
   "cell_type": "code",
   "execution_count": null,
   "metadata": {},
   "outputs": [],
   "source": [
    "graph = tf.Graph()"
   ]
  },
  {
   "cell_type": "markdown",
   "metadata": {},
   "source": [
    "Задаваме графът по подразбиране в рамките на `with` секцията. Всяка операция, дефинирана в нея, е част от графът по подразбиране."
   ]
  },
  {
   "cell_type": "code",
   "execution_count": null,
   "metadata": {},
   "outputs": [],
   "source": [
    "with graph.as_default():\n",
    "    a = tf.placeholder(tf.int32, [], name='ph_for_a')\n",
    "    b = tf.placeholder(tf.int32, [], name='just_b')\n",
    "    c = a + b\n",
    "    d = 2 * a\n",
    "    const = tf.constant(6)"
   ]
  },
  {
   "cell_type": "markdown",
   "metadata": {},
   "source": [
    "`a` и `b` са placeholders(\"запазени места\") за стойности. При изчисление ще им бъдат присвоени стойнисти. За разлика от тях `c` и `d` са операции (`tf.Operation`). Те имат стойности, зависещи на други тензори (запазени места, операции и др.) и могат да бъдат произволно сложни.\n",
    "\n",
    "Всеки placeholder си има тип (tf.int32) и \"форма\" ([]), които трябва да бъдат спазени при подаването на стойности в тях. Обикновено се ползват `tf.int32` за целочислени (например бройки, части от форми на тензори и стойности на дискретни полеат) и `tf.float32` за реални числа (изчисленията с тях са по-бързи и не ни се налага да ползваме точността на `tf.float64` (double).   "
   ]
  },
  {
   "cell_type": "markdown",
   "metadata": {},
   "source": [
    "Създаваме си сесия. Всички операции в TF се изпълняват във дадена сесия. Всяка сесия си има граф, чиито операции изпълнява."
   ]
  },
  {
   "cell_type": "code",
   "execution_count": null,
   "metadata": {},
   "outputs": [],
   "source": [
    "session = tf.Session(graph=graph)"
   ]
  },
  {
   "cell_type": "markdown",
   "metadata": {},
   "source": [
    "Чрез `run` метода можем да изчисляваме тензори в рамките на графа."
   ]
  },
  {
   "cell_type": "code",
   "execution_count": null,
   "metadata": {},
   "outputs": [],
   "source": [
    "session.run(const)"
   ]
  },
  {
   "cell_type": "code",
   "execution_count": null,
   "metadata": {},
   "outputs": [],
   "source": [
    "session.run(c)"
   ]
  },
  {
   "cell_type": "markdown",
   "metadata": {},
   "source": [
    "Естествено не можем да изчислим `c` без да знаем стойностите на `a` и `b`. За целта трябва да подадем втория параметър на `run` - `feed_dict`. Той има стойност `dict` с ключове `placeholder` и стойности - стойностите, които съответния `placeholder` получава.\n",
    "\n",
    "Освен това е добра идея да си именуваме тензорите, тъй като в съобщението за грешка пише кой `placeholder` липсва ;)."
   ]
  },
  {
   "cell_type": "code",
   "execution_count": null,
   "metadata": {},
   "outputs": [],
   "source": [
    "session.run(c, {a:1, b:2})"
   ]
  },
  {
   "cell_type": "markdown",
   "metadata": {},
   "source": [
    "Можем да подадем само стойностите на placeholder-ите, които използваме"
   ]
  },
  {
   "cell_type": "code",
   "execution_count": null,
   "metadata": {},
   "outputs": [],
   "source": [
    "session.run(d, {a:5})"
   ]
  },
  {
   "cell_type": "markdown",
   "metadata": {},
   "source": [
    "Резултатът не е задължително да бъде единствен тензор. Може да бъде вложена структура от тензори използвайки `list` и `dict`"
   ]
  },
  {
   "cell_type": "code",
   "execution_count": null,
   "metadata": {},
   "outputs": [],
   "source": [
    "session.run({'a_and_b': [a, b], 'a+b':c, 'double_a':d}, {a:45, b:-3})"
   ]
  },
  {
   "cell_type": "code",
   "execution_count": null,
   "metadata": {},
   "outputs": [],
   "source": []
  }
 ],
 "metadata": {
  "kernelspec": {
   "display_name": "Python 3",
   "language": "python",
   "name": "python3"
  },
  "language_info": {
   "codemirror_mode": {
    "name": "ipython",
    "version": 3
   },
   "file_extension": ".py",
   "mimetype": "text/x-python",
   "name": "python",
   "nbconvert_exporter": "python",
   "pygments_lexer": "ipython3",
   "version": "3.5.0"
  }
 },
 "nbformat": 4,
 "nbformat_minor": 2
}
